{
 "cells": [
  {
   "cell_type": "code",
   "execution_count": 2,
   "metadata": {},
   "outputs": [],
   "source": [
    "import requests"
   ]
  },
  {
   "cell_type": "code",
   "execution_count": 3,
   "metadata": {},
   "outputs": [],
   "source": [
    "# First assign the URL of Wikipedia home page to a strings\n",
    "wiki_home = \"https://en.wikipedia.org/wiki/Main_Page\"\n"
   ]
  },
  {
   "cell_type": "code",
   "execution_count": 4,
   "metadata": {},
   "outputs": [],
   "source": [
    "response = requests.get(wiki_home)"
   ]
  },
  {
   "cell_type": "code",
   "execution_count": 6,
   "metadata": {},
   "outputs": [],
   "source": [
    "def encoding_check(r):\n",
    "    return (r.encoding)\n",
    "\n",
    "def decode_content(r,encoding):\n",
    "    return (r.content.decode(encoding))\n",
    "\n",
    "contents = decode_content(response,encoding_check(response))\n"
   ]
  },
  {
   "cell_type": "code",
   "execution_count": 7,
   "metadata": {},
   "outputs": [
    {
     "data": {
      "text/plain": [
       "str"
      ]
     },
     "execution_count": 7,
     "metadata": {},
     "output_type": "execute_result"
    }
   ],
   "source": [
    "type(contents)"
   ]
  },
  {
   "cell_type": "code",
   "execution_count": 8,
   "metadata": {},
   "outputs": [
    {
     "data": {
      "text/plain": [
       "77727"
      ]
     },
     "execution_count": 8,
     "metadata": {},
     "output_type": "execute_result"
    }
   ],
   "source": [
    "len(contents)"
   ]
  },
  {
   "cell_type": "code",
   "execution_count": 9,
   "metadata": {
    "scrolled": true
   },
   "outputs": [
    {
     "data": {
      "text/plain": [
       "'<!DOCTYPE html>\\n<html class=\"client-nojs\" lang=\"en\" dir=\"ltr\">\\n<head>\\n<meta charset=\"UTF-8\"/>\\n<title>Wikipedia, the free encyclopedia</title>\\n<script>document.documentElement.className=\"client-js\";RLCONF={\"wgBreakFrames\":!1,\"wgSeparatorTransformTable\":[\"\",\"\"],\"wgDigitTransformTable\":[\"\",\"\"],\"wgDefaultDateFormat\":\"dmy\",\"wgMonthNames\":[\"\",\"January\",\"February\",\"March\",\"April\",\"May\",\"June\",\"July\",\"August\",\"September\",\"October\",\"November\",\"December\"],\"wgMonthNamesShort\":[\"\",\"Jan\",\"Feb\",\"Mar\",\"Apr\",\"May\",\"Jun\",\"Jul\",\"Aug\",\"Sep\",\"Oct\",\"Nov\",\"Dec\"],\"wgRequestId\":\"XkqA4QpAMFcAAHeqrboAAABX\",\"wgCSPNonce\":!1,\"wgCanonicalNamespace\":\"\",\"wgCanonicalSpecialPageName\":!1,\"wgNamespaceNumber\":0,\"wgPageName\":\"Main_Page\",\"wgTitle\":\"Main Page\",\"wgCurRevisionId\":939357440,\"wgRevisionId\":939357440,\"wgArticleId\":15580374,\"wgIsArticle\":!0,\"wgIsRedirect\":!1,\"wgAction\":\"view\",\"wgUserName\":null,\"wgUserGroups\":[\"*\"],\"wgCategories\":[],\"wgPageContentLanguage\":\"en\",\"wgPageContentModel\":\"wikitext\",\"wgRelevantPageName\":\"Main_Page\",\"wgRelevantArticleId\":15580374,\"wgIsProbablyEditable\":!1,\"wgRelevantPageIsProbablyEditable\":!1,\"wgRestrictionEdit\":[\\n\"sysop\"],\"wgRestrictionMove\":[\"sysop\"],\"wgIsMainPage\":!0,\"wgMediaViewerOnClick\":!0,\"wgMediaViewerEnabledByDefault\":!0,\"wgPopupsReferencePreviews\":!1,\"wgPopupsConflictsWithNavPopupGadget\":!1,\"wgVisualEditor\":{\"pageLanguageCode\":\"en\",\"pageLanguageDir\":\"ltr\",\"pageVariantFallbacks\":\"en\"},\"wgMFDisplayWikibaseDescriptions\":{\"search\":!0,\"nearby\":!0,\"watchlist\":!0,\"tagline\":!1},\"wgWMESchemaEditAttemptStepOversample\":!1,\"wgULSCurrentAutonym\":\"English\",\"wgNoticeProject\":\"wikipedia\",\"wgWikibaseItemId\":\"Q5296\",\"wgCentralAuthMobileDomain\":!1,\"wgEditSubmitButtonLabelPublish\":!0};RLSTATE={\"ext.globalCssJs.user.styles\":\"ready\",\"site.styles\":\"ready\",\"noscript\":\"ready\",\"user.styles\":\"ready\",\"ext.globalCssJs.user\":\"ready\",\"user\":\"ready\",\"user.options\":\"ready\",\"user.tokens\":\"loading\",\"mediawiki.legacy.shared\":\"ready\",\"mediawiki.legacy.commonPrint\":\"ready\",\"mediawiki.skinning.interface\":\"ready\",\"skins.vector.styles\":\"ready\",\"ext.visualEditor.desktopArticleTarget.noscript\":\\n\"ready\",\"ext.uls.interlanguage\":\"ready\",\"ext.wikimediaBadges\":\"ready\"};RLPAGEMODULES=[\"site\",\"mediawiki.page.startup\",\"skins.vector.js\",\"mediawiki.page.ready\",\"ext.gadget.ReferenceTooltips\",\"ext.gadget.watchlist-notice\",\"ext.gadget.DRN-wizard\",\"ext.gadget.charinsert\",\"ext.gadget.refToolbar\",\"ext.gadget.extra-toolbar-buttons\",\"ext.gadget.switcher\",\"ext.centralauth.centralautologin\",\"mmv.head\",\"mmv.bootstrap.autostart\",\"ext.popups\",\"ext.visualEditor.desktopArticleTarget.init\",\"ext.visualEditor.targetLoader\",\"ext.eventLogging\",\"ext.wikimediaEvents\",\"ext.navigationTiming\",\"ext.uls.interface\",\"ext.cx.eventlogging.campaigns\",\"ext.centralNotice.geoIP\",\"ext.centralNotice.startUp\"];</script>\\n<script>(RLQ=window.RLQ||[]).push(function(){mw.loader.implement(\"user.tokens@tffin\",function($,jQuery,require,module){/*@nomin*/mw.user.tokens.set({\"patrolToken\":\"+\\\\\\\\\",\"watchToken\":\"+\\\\\\\\\",\"csrfToken\":\"+\\\\\\\\\"});\\n});});</script>\\n<link rel=\"stylesheet\" href=\"/w/load.php?lang=en&amp;modules=ext.uls.interlanguage%7Cext.visualEditor.desktopArticleTarget.noscript%7Cext.wikimediaBadges%7Cmediawiki.legacy.commonPrint%2Cshared%7Cmediawiki.skinning.interface%7Cskins.vector.styles&amp;only=styles&amp;skin=vector\"/>\\n<script async=\"\" src=\"/w/load.php?lang=en&amp;modules=startup&amp;only=scripts&amp;raw=1&amp;skin=vector\"></script>\\n<meta name=\"ResourceLoaderDynamicStyles\" content=\"\"/>\\n<link rel=\"stylesheet\" href=\"/w/load.php?lang=en&amp;modules=site.styles&amp;only=styles&amp;skin=vector\"/>\\n<meta name=\"generator\" content=\"MediaWiki 1.35.0-wmf.18\"/>\\n<meta name=\"referrer\" content=\"origin\"/>\\n<meta name=\"referrer\" content=\"origin-when-crossorigin\"/>\\n<meta name=\"referrer\" content=\"origin-when-cross-origin\"/>\\n<meta property=\"og:image\" content=\"https://upload.wikimedia.org/wikipedia/commons/thumb/9/94/Carlotta_2018_track.png/1200px-Carlotta_2018_track.png\"/>\\n<link rel=\"alternate\" href=\"android-app://org.wikipedia/http/en.m.wikipedia.org/wiki/Main_Page\"/>\\n<link rel=\"alternate\" type=\"application/atom+xml\" title=\"Wikipedia picture of the day feed\" href=\"/w/api.php?action=featuredfeed&amp;feed=potd&amp;feedformat=atom\"/>\\n<link rel=\"alternate\" type=\"application/atom+xml\" title=\"Wikipedia featured articles feed\" href=\"/w/api.php?action=featuredfeed&amp;feed=featured&amp;feedformat=atom\"/>\\n<link rel=\"alternate\" type=\"application/atom+xml\" title=\"Wikipedia &quot;On this day...&quot; feed\" href=\"/w/api.php?action=featuredfeed&amp;feed=onthisday&amp;feedformat=atom\"/>\\n<link rel=\"apple-touch-icon\" href=\"/static/apple-touch/wikipedia.png\"/>\\n<link rel=\"shortcut icon\" href=\"/static/favicon/wikipedia.ico\"/>\\n<link rel=\"search\" type=\"application/opensearchdescription+xml\" href=\"/w/opensearch_desc.php\" title=\"Wikipedia (en)\"/>\\n<link rel=\"EditURI\" type=\"application/rsd+xml\" href=\"//en.wikipedia.org/w/api.php?action=rsd\"/>\\n<link rel=\"license\" href=\"//creativecommons.org/licenses/by-sa/3.0/\"/>\\n<link rel=\"canonical\" href=\"https://en.wikipedia.org/wiki/Main_Page\"/>\\n<link rel=\"dns-prefetch\" href=\"//login.wikimedia.org\"/>\\n<link rel=\"dns-prefetch\" href=\"//meta.wikimedia.org\" />\\n<!--[if lt IE 9]><script src=\"/w/resources/lib/html5shiv/html5shiv.js\"></script><![endif]-->\\n</head>\\n<body class=\"mediawiki ltr sitedir-ltr mw-hide-empty-elt ns-0 ns-subject page-Main_Page rootpage-Main_Page skin-vector action-view\">\\n<div id=\"mw-page-base\" class=\"noprint\"></div>\\n<div id=\"mw-head-base\" class=\"noprint\"></div>\\n<div id=\"content\" class=\"mw-body\" role=\"main\">\\n\\t<a id=\"top\"></a>\\n\\t<div id=\"siteNotice\" class=\"mw-body-content\"><!-- CentralNotice --></div>\\n\\t<div class=\"mw-indicators mw-body-content\">\\n</div>\\n\\n\\t<h1 id=\"firstHeading\" class=\"firstHeading\" lang=\"en\">Main Page</h1>\\n\\t\\n\\t<div id=\"bodyContent\" class=\"mw-body-content\">\\n\\t\\t<div id=\"siteSub\" class=\"noprint\">From Wikipedia, the free encyclopedia</div>\\n\\t\\t<div id=\"contentSub\"></div>\\n\\t\\t\\n\\t\\t\\n\\t\\t<div id=\"jump-to-nav\"></div>\\n\\t\\t<a class=\"mw-jump-link\" href=\"#mw-head\">Jump to navigation</a>\\n\\t\\t<a class=\"mw-jump-link\" href=\"#p-search\">Jump to search</a>\\n\\t\\t<div id=\"mw-content-text\" lang=\"en\" dir=\"ltr\" class=\"mw-content-ltr\"><div class=\"mw-parser-output\"><div id=\"mp-topbanner\" style=\"clear:both; position:relative; box-sizing:border-box; width:100%; margin:1.2em 0 6px; min-width:47em; border:1px solid #ddd; background-color:#f9f9f9; color:#000; white-space:nowrap;\">\\n<div style=\"margin:0.4em; width:22em; text-align:center;\">\\n<div style=\"font-size:162%; padding:.1em;\">Welcome to <a href=\"/wiki/Wikipedia\" title=\"Wikipedia\">Wikipedia</a>,</div>\\n<div style=\"font-size:95%;\">the <a href=\"/wiki/Free_content\" title=\"Free content\">free</a> <a href=\"/wiki/Encyclopedia\" title=\"Encyclopedia\">encyclopedia</a> that <a href=\"/wiki/Wikipedia:Introduction\" title=\"Wikipedia:Introduction\">anyone can edit</a>.</div>\\n<div id=\"articlecount\" style=\"font-size:85%;\"><a href=\"/wiki/Special:Statistics\" title=\"Special:Statistics\">6,016,244</a> articles in <a href=\"/wiki/English_language\" title=\"English language\">English</a></div>\\n</div>\\n<ul style=\"position:absolute; right:-1em; top:50%; margin-top:-2.4em; width:38%; min-width:25em; font-size:95%;\">\\n<li style=\"position:absolute; left:0; top:0;\"><a href=\"/wiki/Portal:Arts\" title=\"Portal:Arts\">Arts</a></li>\\n<li style=\"position:absolute; left:0; top:1.6em;\"><a href=\"/wiki/Portal:Biography\" title=\"Portal:Biography\">Biography</a></li>\\n<li style=\"position:absolute; left:0; top:3.2em;\"><a href=\"/wiki/Portal:Geography\" title=\"Portal:Geography\">Geography</a></li>\\n<li style=\"position:absolute; left:33%; top:0;\"><a href=\"/wiki/Portal:History\" title=\"Portal:History\">History</a></li>\\n<li style=\"position:absolute; left:33%; top:1.6em;\"><a href=\"/wiki/Portal:Mathematics\" title=\"Portal:Mathematics\">Mathematics</a></li>\\n<li style=\"position:absolute; left:33%; top:3.2em;\"><a href=\"/wiki/Portal:Science\" title=\"Portal:Science\">Science</a></li>\\n<li style=\"position:absolute; left:66%; top:0;\"><a href=\"/wiki/Portal:Society\" title=\"Portal:Society\">Society</a></li>\\n<li style=\"position:absolute; left:66%; top:1.6em;\"><a href=\"/wiki/Portal:Technology\" title=\"Portal:Technology\">Technology</a></li>\\n<li style=\"position:absolute; left:66%; top:3.2em;\"><strong><a href=\"/wiki/Wikipedia:Contents/Portals\" title=\"Wikipedia:Contents/Portals\">All portals</a></strong></li>\\n</ul>\\n</div>\\n<table role=\"presentation\" id=\"mp-upper\" style=\"width: 100%; margin-top:4px; border-spacing: 0px;\">\\n<tbody><tr>\\n<td id=\"mp-left\" class=\"MainPageBG\" style=\"width:55%; border:1px solid #cef2e0; padding:0; background:#f5fffa; vertical-align:top; color:#000;\">\\n<h2 id=\"mp-tfa-h2\" style=\"margin:0.5em; background:#cef2e0; font-family:inherit; font-size:120%; font-weight:bold; border:1px solid #a3bfb1; color:#000; padding:0.2em 0.4em;\"><span id=\"From_today.27s_featured_article\"></span><span class=\"mw-headline\" id=\"From_today\\'s_featured_article\">From today\\'s featured article</span></h2>\\n<div id=\"mp-tfa\" style=\"padding:0.1em 0.6em;\"><div id=\"mp-tfa-img\" style=\"float: left; margin: 0.5em 0.9em 0.4em 0em;\"><div class=\"thumbinner mp-thumb\" style=\"background: transparent; border: none; padding: 0; max-width: 160px;\">\\n<a href=\"/wiki/File:Carlotta_2018_track.png\" class=\"image\" title=\"Track and intensity of Tropical Storm Carlotta\"><img alt=\"Track and intensity of Tropical Storm Carlotta\" src=\"//upload.wikimedia.org/wikipedia/commons/thumb/9/94/Carlotta_2018_track.png/160px-Carlotta_2018_track.png\" decoding=\"async\" width=\"160\" height=\"99\" srcset=\"//upload.wikimedia.org/wikipedia/commons/thumb/9/94/Carlotta_2018_track.png/240px-Carlotta_2018_track.png 1.5x, //upload.wikimedia.org/wikipedia/commons/thumb/9/94/Carlotta_2018_track.png/320px-Carlotta_2018_track.png 2x\" data-file-width=\"3000\" data-file-height=\"1854\" /></a><div class=\"thumbcaption\" style=\"padding: 0.25em 0; word-wrap: break-word;\">Track and intensity of Tropical Storm Carlotta</div></div>\\n</div> \\n<p><a href=\"/wiki/Tropical_Storm_Carlotta_(2018)\" title=\"Tropical Storm Carlotta (2018)\"><b>Tropical Storm C'"
      ]
     },
     "execution_count": 9,
     "metadata": {},
     "output_type": "execute_result"
    }
   ],
   "source": [
    "contents[:10000]"
   ]
  },
  {
   "cell_type": "code",
   "execution_count": null,
   "metadata": {},
   "outputs": [],
   "source": []
  }
 ],
 "metadata": {
  "kernelspec": {
   "display_name": "Python 3",
   "language": "python",
   "name": "python3"
  },
  "language_info": {
   "codemirror_mode": {
    "name": "ipython",
    "version": 3
   },
   "file_extension": ".py",
   "mimetype": "text/x-python",
   "name": "python",
   "nbconvert_exporter": "python",
   "pygments_lexer": "ipython3",
   "version": "3.7.3"
  }
 },
 "nbformat": 4,
 "nbformat_minor": 2
}
