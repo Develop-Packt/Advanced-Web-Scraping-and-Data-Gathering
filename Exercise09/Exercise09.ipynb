{
 "cells": [
  {
   "cell_type": "code",
   "execution_count": 1,
   "metadata": {},
   "outputs": [
    {
     "data": {
      "text/plain": [
       "xml.etree.ElementTree.ElementTree"
      ]
     },
     "execution_count": 1,
     "metadata": {},
     "output_type": "execute_result"
    }
   ],
   "source": [
    "import xml.etree.ElementTree as ET\n",
    "tree2=ET.parse('../datasets/xml1.xml')\n",
    "type(tree2)\n"
   ]
  },
  {
   "cell_type": "code",
   "execution_count": 2,
   "metadata": {},
   "outputs": [
    {
     "name": "stdout",
     "output_type": "stream",
     "text": [
      "Child: country | Child attribute: {'name': 'Liechtenstein'}\n",
      "Child: country | Child attribute: {'name': 'Singapore'}\n",
      "Child: country | Child attribute: {'name': 'Panama'}\n"
     ]
    }
   ],
   "source": [
    "root=tree2.getroot()\n",
    "for child in root:\n",
    "    print (\"Child:\",child.tag, \"| Child attribute:\",child.attrib)\n"
   ]
  },
  {
   "cell_type": "code",
   "execution_count": null,
   "metadata": {},
   "outputs": [],
   "source": []
  }
 ],
 "metadata": {
  "kernelspec": {
   "display_name": "Python 3",
   "language": "python",
   "name": "python3"
  },
  "language_info": {
   "codemirror_mode": {
    "name": "ipython",
    "version": 3
   },
   "file_extension": ".py",
   "mimetype": "text/x-python",
   "name": "python",
   "nbconvert_exporter": "python",
   "pygments_lexer": "ipython3",
   "version": "3.7.4"
  }
 },
 "nbformat": 4,
 "nbformat_minor": 2
}
