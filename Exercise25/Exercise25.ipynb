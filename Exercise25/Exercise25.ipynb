{
 "cells": [
  {
   "cell_type": "code",
   "execution_count": 3,
   "metadata": {},
   "outputs": [
    {
     "name": "stdout",
     "output_type": "stream",
     "text": [
      "3124567897\n",
      "No match\n"
     ]
    }
   ],
   "source": [
    "import re\n",
    "def print_match(s):\n",
    "    if prog.search(s)==None:\n",
    "        print(\"No match\")\n",
    "    else:\n",
    "        print(prog.search(s).group())\n",
    "\n",
    "prog = re.compile(r'[0-9]{10}')\n",
    "print_match(\"3124567897\")\n",
    "print_match(\"312-456-7897\")\n"
   ]
  },
  {
   "cell_type": "code",
   "execution_count": 4,
   "metadata": {},
   "outputs": [
    {
     "name": "stdout",
     "output_type": "stream",
     "text": [
      "3124567897\n",
      "312-456-7897\n"
     ]
    }
   ],
   "source": [
    "prog = re.compile(r'[0-9]{10}|[0-9]{3}-[0-9]{3}-[0-9]{4}')\n",
    "print_match(\"3124567897\")\n",
    "print_match(\"312-456-7897\") \n"
   ]
  },
  {
   "cell_type": "code",
   "execution_count": 5,
   "metadata": {},
   "outputs": [
    {
     "name": "stdout",
     "output_type": "stream",
     "text": [
      "3124567897\n",
      "312-456-7897\n",
      "(312)456-7897\n",
      "312.456.7897\n"
     ]
    }
   ],
   "source": [
    "p1= r'[0-9]{10}'\n",
    "p2=r'[0-9]{3}-[0-9]{3}-[0-9]{4}'\n",
    "p3 = r'\\([0-9]{3}\\)[0-9]{3}-[0-9]{4}'\n",
    "p4 = r'[0-9]{3}\\.[0-9]{3}\\.[0-9]{4}'\n",
    "pattern= p1+'|'+p2+'|'+p3+'|'+p4\n",
    "prog = re.compile(pattern)\n",
    "\n",
    "print_match(\"3124567897\")\n",
    "print_match(\"312-456-7897\")\n",
    "print_match(\"(312)456-7897\")\n",
    "print_match(\"312.456.7897\") \n"
   ]
  },
  {
   "cell_type": "code",
   "execution_count": null,
   "metadata": {},
   "outputs": [],
   "source": []
  }
 ],
 "metadata": {
  "kernelspec": {
   "display_name": "Python 3",
   "language": "python",
   "name": "python3"
  },
  "language_info": {
   "codemirror_mode": {
    "name": "ipython",
    "version": 3
   },
   "file_extension": ".py",
   "mimetype": "text/x-python",
   "name": "python",
   "nbconvert_exporter": "python",
   "pygments_lexer": "ipython3",
   "version": "3.7.3"
  }
 },
 "nbformat": 4,
 "nbformat_minor": 2
}
