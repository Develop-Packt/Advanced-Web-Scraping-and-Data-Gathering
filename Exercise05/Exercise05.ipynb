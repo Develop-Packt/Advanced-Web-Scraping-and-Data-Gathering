{
 "cells": [
  {
   "cell_type": "code",
   "execution_count": 2,
   "metadata": {},
   "outputs": [],
   "source": [
    "import requests \n",
    "wiki_home = \"https://en.wikipedia.org/wiki/Main_Page\" \n",
    "response = requests.get(wiki_home) \n",
    "def encoding_check(r): \n",
    "    return (r.encoding) \n",
    "def decode_content(r,encoding): \n",
    "    return (r.content.decode(encoding)) \n",
    "contents = decode_content(response,encoding_check(response)) "
   ]
  },
  {
   "cell_type": "code",
   "execution_count": 3,
   "metadata": {},
   "outputs": [],
   "source": [
    "from bs4 import BeautifulSoup \n",
    "soup = BeautifulSoup(contents, 'html.parser') "
   ]
  },
  {
   "cell_type": "code",
   "execution_count": 5,
   "metadata": {},
   "outputs": [],
   "source": [
    "\n",
    "text_list=[] #Empty list\n",
    "for d in soup.find_all('div'):\n",
    "        if (d.get('id')=='mp-otd'):\n",
    "            for i in d.find_all('ul'):\n",
    "                text_list.append(i.text)\n"
   ]
  },
  {
   "cell_type": "code",
   "execution_count": 6,
   "metadata": {},
   "outputs": [
    {
     "name": "stdout",
     "output_type": "stream",
     "text": [
      "1669 – Mount Etna in Sicily began erupting (depicted), eventually producing the largest lava flow in the volcano's history, and damaging Catania and other towns.\n",
      "1708 – Queen Anne withheld royal assent from the Scottish Militia Bill, in the most recent occasion where a British monarch vetoed an act of Parliament.\n",
      "1845 – Māori forces, led by chiefs Te Ruki Kawiti and Hōne Heke, attacked the British settlement of Kororāreka, New Zealand, beginning the Flagstaff War.\n",
      "1993 – The U.S. Senate unanimously confirmed Janet Reno as the country's first female attorney general.\n",
      "2010 – During the inauguration of Chilean president Sebastián Piñera, an earthquake registering 6.9 MW struck the O'Higgins Region near the city of Pichilemu, causing widespread damage.\n",
      "----------------------------------------------------------------------------------------------------\n",
      "March 10\n",
      "March 11\n",
      "March 12\n",
      "----------------------------------------------------------------------------------------------------\n",
      "Archive\n",
      "By email\n",
      "List of historical anniversaries\n",
      "----------------------------------------------------------------------------------------------------\n"
     ]
    }
   ],
   "source": [
    "for i in text_list:\n",
    "    print(i)\n",
    "    print('-'*100)\n"
   ]
  }
 ],
 "metadata": {
  "kernelspec": {
   "display_name": "Python 3",
   "language": "python",
   "name": "python3"
  },
  "language_info": {
   "codemirror_mode": {
    "name": "ipython",
    "version": 3
   },
   "file_extension": ".py",
   "mimetype": "text/x-python",
   "name": "python",
   "nbconvert_exporter": "python",
   "pygments_lexer": "ipython3",
   "version": "3.7.4"
  }
 },
 "nbformat": 4,
 "nbformat_minor": 2
}
