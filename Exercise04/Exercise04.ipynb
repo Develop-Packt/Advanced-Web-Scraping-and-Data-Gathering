{
 "cells": [
  {
   "cell_type": "code",
   "execution_count": 4,
   "metadata": {},
   "outputs": [],
   "source": [
    "import requests"
   ]
  },
  {
   "cell_type": "code",
   "execution_count": 5,
   "metadata": {},
   "outputs": [],
   "source": [
    "# First assign the URL of Wikipedia home page to a strings\n",
    "wiki_home = \"https://en.wikipedia.org/wiki/Main_Page\"\n"
   ]
  },
  {
   "cell_type": "code",
   "execution_count": 6,
   "metadata": {},
   "outputs": [],
   "source": [
    "response = requests.get(wiki_home)"
   ]
  },
  {
   "cell_type": "code",
   "execution_count": 7,
   "metadata": {},
   "outputs": [],
   "source": [
    "def encoding_check(r):\n",
    "    return (r.encoding)\n",
    "def decode_content(r,encoding):\n",
    "    return (r.content.decode(encoding))\n",
    "\n",
    "contents = decode_content(response,encoding_check(response))\n"
   ]
  },
  {
   "cell_type": "code",
   "execution_count": 8,
   "metadata": {},
   "outputs": [],
   "source": [
    "from bs4 import BeautifulSoup\n",
    "soup = BeautifulSoup(contents, 'html.parser')\n"
   ]
  },
  {
   "cell_type": "code",
   "execution_count": 9,
   "metadata": {},
   "outputs": [],
   "source": [
    "txt_dump=soup.text"
   ]
  },
  {
   "cell_type": "code",
   "execution_count": 10,
   "metadata": {},
   "outputs": [
    {
     "data": {
      "text/plain": [
       "str"
      ]
     },
     "execution_count": 10,
     "metadata": {},
     "output_type": "execute_result"
    }
   ],
   "source": [
    "type(txt_dump)"
   ]
  },
  {
   "cell_type": "code",
   "execution_count": 11,
   "metadata": {},
   "outputs": [
    {
     "data": {
      "text/plain": [
       "15116"
      ]
     },
     "execution_count": 11,
     "metadata": {},
     "output_type": "execute_result"
    }
   ],
   "source": [
    "len(txt_dump)"
   ]
  },
  {
   "cell_type": "code",
   "execution_count": 12,
   "metadata": {},
   "outputs": [
    {
     "name": "stdout",
     "output_type": "stream",
     "text": [
      "  Free media repository \n",
      "\n",
      "\n",
      "  \n",
      " MediaWiki  Wiki software development \n",
      "\n",
      "\n",
      "  \n",
      " Meta-Wiki  Wikimedia project coordination \n",
      "\n",
      "\n",
      "  \n",
      " Wikibooks  Free textbooks and manuals \n",
      "\n",
      "\n",
      "  \n",
      " Wikidata  Free knowledge base \n",
      "\n",
      "\n",
      "  \n",
      " Wikinews  Free-content news \n",
      "\n",
      "\n",
      "  \n",
      " Wikiquote  Collection of quotations \n",
      "\n",
      "\n",
      "  \n",
      " Wikisource  Free-content library \n",
      "\n",
      "\n",
      "  \n",
      " Wikispecies  Directory of species \n",
      "\n",
      "\n",
      "  \n",
      " Wikiversity  Free learning materials and activities \n",
      "\n",
      "\n",
      "  \n",
      " Wikivoyage  Free travel guide \n",
      "\n",
      "\n",
      "  \n",
      " Wiktionary  Dictionary and thesaurus \n",
      "\n",
      "\n",
      "Wikipedia languages\n",
      "\n",
      "\n",
      "This Wikipedia is written in English. Started in 2001 (2001), it currently contains 6,016,244 articles. \n",
      "Many other Wikipedias are available; some of the largest are listed below.\n",
      "\n",
      "\n",
      "More than 1,000,000 articles: \n",
      "العربية\n",
      "Deutsch\n",
      "Español\n",
      "Français\n",
      "Italiano\n",
      "Nederlands\n",
      "日本語\n",
      "Polski\n",
      "Português\n",
      "Русский\n",
      "Svenska\n",
      "Tiếng Việt\n",
      "中文\n",
      "\n",
      "More than 250,000 articles: \n",
      "Bahasa Indonesia\n",
      "Bahasa Melayu\n",
      "Български\n",
      "Català\n",
      "Čeština\n",
      "Dansk\n",
      "Esperanto\n",
      "Euskara\n",
      "فارسی‎\n",
      "עברית\n",
      "한국어\n",
      "Magyar\n",
      "Norsk Bokmål\n",
      "Română\n",
      "Srpski\n"
     ]
    }
   ],
   "source": [
    "print(txt_dump[10000:11000])"
   ]
  },
  {
   "cell_type": "code",
   "execution_count": null,
   "metadata": {},
   "outputs": [],
   "source": []
  }
 ],
 "metadata": {
  "kernelspec": {
   "display_name": "Python 3",
   "language": "python",
   "name": "python3"
  },
  "language_info": {
   "codemirror_mode": {
    "name": "ipython",
    "version": 3
   },
   "file_extension": ".py",
   "mimetype": "text/x-python",
   "name": "python",
   "nbconvert_exporter": "python",
   "pygments_lexer": "ipython3",
   "version": "3.7.3"
  }
 },
 "nbformat": 4,
 "nbformat_minor": 2
}
