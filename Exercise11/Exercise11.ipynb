{
 "cells": [
  {
   "cell_type": "markdown",
   "metadata": {},
   "source": [
    "1.Read from the website http://www.recipepuppy.com/"
   ]
  },
  {
   "cell_type": "code",
   "execution_count": 1,
   "metadata": {},
   "outputs": [
    {
     "name": "stdout",
     "output_type": "stream",
     "text": [
      "Enter the name of a food item (enter 'quit' to quit): chicken tikka\n",
      "Retrieved 2611 characters\n"
     ]
    }
   ],
   "source": [
    "import  requests, urllib.parse\n",
    "\n",
    "serviceurl = 'http://www.recipepuppy.com/api/?'\n",
    "item = str(input('Enter the name of a food item (enter \\'quit\\' to quit): '))\n",
    "url = serviceurl + urllib.parse.urlencode({'q':item})+'&p=1&format=xml'\n",
    "uh = requests.get(url)\n",
    "data = uh.text\n",
    "print('Retrieved', len(data), 'characters')"
   ]
  },
  {
   "cell_type": "code",
   "execution_count": 2,
   "metadata": {},
   "outputs": [
    {
     "data": {
      "text/plain": [
       "-1"
      ]
     },
     "execution_count": 2,
     "metadata": {},
     "output_type": "execute_result"
    }
   ],
   "source": [
    "data.find(\"<!DOCTYPE html PUBLIC\") "
   ]
  },
  {
   "cell_type": "code",
   "execution_count": 3,
   "metadata": {},
   "outputs": [],
   "source": [
    "end_marker = data.find(\"<!DOCTYPE html PUBLIC\")\n",
    "xml_text = data[:end_marker]\n"
   ]
  },
  {
   "cell_type": "code",
   "execution_count": 4,
   "metadata": {},
   "outputs": [],
   "source": [
    "import xml.etree.ElementTree as ET\n",
    "end_marker = data.find(\"<!DOCTYPE html PUBLIC\") if data.find(\"<!DOCTYPE html PUBLIC\") != -1 else len(data)\n",
    "xml_text = data[:end_marker]\n",
    "tree3 = ET.fromstring(xml_text)\n"
   ]
  },
  {
   "cell_type": "code",
   "execution_count": 6,
   "metadata": {},
   "outputs": [
    {
     "name": "stdout",
     "output_type": "stream",
     "text": [
      "\n",
      "\n",
      "\n",
      "\n",
      "Chicken Tikka Masala\n",
      "http://allrecipes.com/Recipe/Chicken-Tikka-Masala/Detail.aspx\n",
      "black pepper, chicken, butter, cayenne, cinnamon, cumin, cumin, garlic, heavy cream, jalapeno, lemon juice, paprika, salt, salt, yogurt\n",
      "\n",
      "\n",
      "Chicken Tikka With Chickpea Flour\n",
      "http://www.recipezaar.com/Chicken-Tikka-With-Chickpea-Flour-224938\n",
      "chicken, chickpea flour, chili powder, cumin, garlic, ginger, lemon juice, nutmeg, salt, turmeric\n",
      "\n",
      "\n",
      "Chicken Tikka Masala\n",
      "http://www.recipezaar.com/Chicken-Tikka-Masala-289402\n",
      "black pepper, chicken, tomato, cayenne, chicken broth, garam masala, garlic, ginger, cardamom, cinnamon, coriander, cumin, onions, paprika, yogurt, salt, tomato paste, turmeric, vegetable oil\n",
      "\n",
      "\n",
      "Chicken Tikka Masala Recipe\n",
      "http://www.grouprecipes.com/37802/chicken-tikka-masala.html\n",
      "cumin, garam masala\n",
      "\n",
      "\n",
      "Chicken Tikka Masala\n",
      "http://www.recipezaar.com/Chicken-Tikka-Masala-166811\n",
      "chicken, butter, cayenne, cilantro, ginger, black pepper, garam masala, garlic, cinnamon, cumin, cumin, heavy cream, jalapeno, lemon juice, paprika, salt, salt, tomato sauce, yogurt\n",
      "\n",
      "\n",
      "Chicken Tikka\n",
      "http://www.recipezaar.com/Chicken-Tikka-303703\n",
      "black pepper, chili powder, ginger, coriander, lemon juice, vegetable oil, yogurt, food coloring, salt, chicken drumstick, tomato paste\n",
      "\n",
      "\n",
      "Chicken Tikka\n",
      "http://www.recipezaar.com/Chicken-Tikka-111610\n",
      "butter, chicken, chili powder, garlic, ginger, coriander, onions, salt, tomato paste, yogurt\n",
      "\n",
      "\n",
      "Chicken Tikka\n",
      "http://www.epicurious.com/recipes/food/views/Chicken-Tikka-109308\n",
      "chutney, black pepper, cayenne, coriander seed, cumin, garam masala, garlic, lime juice, whole milk, salt, turmeric, vegetable oil\n",
      "\n",
      "\n",
      "Chicken Tikka Masala\n",
      "http://www.recipezaar.com/Chicken-Tikka-Masala-263097\n",
      "beans, chicken, cilantro, garam masala, rice, water, water\n",
      "\n",
      "\n",
      "Chicken Tikka Masala\n",
      "http://www.recipezaar.com/Chicken-Tikka-Masala-236996\n",
      "chicken\n"
     ]
    }
   ],
   "source": [
    "for elem in tree3.iter():\n",
    "    print(elem.text)\n"
   ]
  },
  {
   "cell_type": "code",
   "execution_count": 5,
   "metadata": {},
   "outputs": [
    {
     "name": "stdout",
     "output_type": "stream",
     "text": [
      "<?xml version=\"1.0\"?>\n",
      "<recipes>\n",
      "<recipe>\n",
      "<title>Chicken Tikka Masala</title>\n",
      "<href>http://allrecipes.com/Recipe/Chicken-Tikka-Masala/Detail.aspx</href>\n",
      "<ingredients>black pepper, chicken, butter, cayenne, cinnamon, cumin, cumin, garlic, heavy cream, jalapeno, lemon juice, paprika, salt, salt, yogurt</ingredients>\n",
      "</recipe>\n",
      "<recipe>\n",
      "<title>Chicken Tikka With Chickpea Flour</title>\n",
      "<href>http://www.recipezaar.com/Chicken-Tikka-With-Chickpea-Flour-224938</href>\n",
      "<ingredients>chicken, chickpea flour, chili powder, cumin, garlic, ginger, lemon juice, nutmeg, salt, turmeric</ingredients>\n",
      "</recipe>\n",
      "<recipe>\n",
      "<title>Chicken Tikka Masala</title>\n",
      "<href>http://www.recipezaar.com/Chicken-Tikka-Masala-289402</href>\n",
      "<ingredients>black pepper, chicken, tomato, cayenne, chicken broth, garam masala, garlic, ginger, cardamom, cinnamon, coriander, cumin, onions, paprika, yogurt, salt, tomato paste, turmeric, vegetable oil</ingredients>\n",
      "</recipe>\n",
      "<recipe>\n",
      "<title>Chicken Tikka Masala Recipe</title>\n",
      "<href>http://www.grouprecipes.com/37802/chicken-tikka-masala.html</href>\n",
      "<ingredients>cumin, garam masala</ingredients>\n",
      "</recipe>\n",
      "<recipe>\n",
      "<title>Chicken Tikka Masala</title>\n",
      "<href>http://www.recipezaar.com/Chicken-Tikka-Masala-166811</href>\n",
      "<ingredients>chicken, butter, cayenne, cilantro, ginger, black pepper, garam masala, garlic, cinnamon, cumin, cumin, heavy cream, jalapeno, lemon juice, paprika, salt, salt, tomato sauce, yogurt</ingredients>\n",
      "</recipe>\n",
      "<recipe>\n",
      "<title>Chicken Tikka</title>\n",
      "<href>http://www.recipezaar.com/Chicken-Tikka-303703</href>\n",
      "<ingredients>black pepper, chili powder, ginger, coriander, lemon juice, vegetable oil, yogurt, food coloring, salt, chicken drumstick, tomato paste</ingredients>\n",
      "</recipe>\n",
      "<recipe>\n",
      "<title>Chicken Tikka</title>\n",
      "<href>http://www.recipezaar.com/Chicken-Tikka-111610</href>\n",
      "<ingredients>butter, chicken, chili powder, garlic, ginger, coriander, onions, salt, tomato paste, yogurt</ingredients>\n",
      "</recipe>\n",
      "<recipe>\n",
      "<title>Chicken Tikka</title>\n",
      "<href>http://www.epicurious.com/recipes/food/views/Chicken-Tikka-109308</href>\n",
      "<ingredients>chutney, black pepper, cayenne, coriander seed, cumin, garam masala, garlic, lime juice, whole milk, salt, turmeric, vegetable oil</ingredients>\n",
      "</recipe>\n",
      "<recipe>\n",
      "<title>Chicken Tikka Masala</title>\n",
      "<href>http://www.recipezaar.com/Chicken-Tikka-Masala-263097</href>\n",
      "<ingredients>beans, chicken, cilantro, garam masala, rice, water, water</ingredients>\n",
      "</recipe>\n",
      "<recipe>\n",
      "<title>Chicken Tikka Masala</title>\n",
      "<href>http://www.recipezaar.com/Chicken-Tikka-Masala-236996</href>\n",
      "<ingredients>chicken</ingredients>\n",
      "</recipe>\n",
      "</recipes>\n"
     ]
    }
   ],
   "source": [
    "print(data)"
   ]
  },
  {
   "cell_type": "code",
   "execution_count": 6,
   "metadata": {},
   "outputs": [
    {
     "name": "stdout",
     "output_type": "stream",
     "text": [
      "Receipe Link for: Chicken Tikka Masala\n",
      "http://allrecipes.com/Recipe/Chicken-Tikka-Masala/Detail.aspx\n",
      "----------------------------------------------------------------------------------------------------\n",
      "Receipe Link for: Chicken Tikka With Chickpea Flour\n",
      "http://www.recipezaar.com/Chicken-Tikka-With-Chickpea-Flour-224938\n",
      "----------------------------------------------------------------------------------------------------\n",
      "Receipe Link for: Chicken Tikka Masala\n",
      "http://www.recipezaar.com/Chicken-Tikka-Masala-289402\n",
      "----------------------------------------------------------------------------------------------------\n",
      "Receipe Link for: Chicken Tikka Masala Recipe\n",
      "http://www.grouprecipes.com/37802/chicken-tikka-masala.html\n",
      "----------------------------------------------------------------------------------------------------\n",
      "Receipe Link for: Chicken Tikka Masala\n",
      "http://www.recipezaar.com/Chicken-Tikka-Masala-166811\n",
      "----------------------------------------------------------------------------------------------------\n",
      "Receipe Link for: Chicken Tikka\n",
      "http://www.recipezaar.com/Chicken-Tikka-303703\n",
      "----------------------------------------------------------------------------------------------------\n",
      "Receipe Link for: Chicken Tikka\n",
      "http://www.recipezaar.com/Chicken-Tikka-111610\n",
      "----------------------------------------------------------------------------------------------------\n",
      "Receipe Link for: Chicken Tikka\n",
      "http://www.epicurious.com/recipes/food/views/Chicken-Tikka-109308\n",
      "----------------------------------------------------------------------------------------------------\n",
      "Receipe Link for: Chicken Tikka Masala\n",
      "http://www.recipezaar.com/Chicken-Tikka-Masala-263097\n",
      "----------------------------------------------------------------------------------------------------\n",
      "Receipe Link for: Chicken Tikka Masala\n",
      "http://www.recipezaar.com/Chicken-Tikka-Masala-236996\n",
      "----------------------------------------------------------------------------------------------------\n"
     ]
    }
   ],
   "source": [
    "for e in tree3.iter():\n",
    "    h=e.find('href')\n",
    "    t=e.find('title')\n",
    "    if h!=None and t!=None:\n",
    "        print(\"Receipe Link for:\",t.text)\n",
    "        print(h.text)\n",
    "        print(\"-\"*100)\n"
   ]
  }
 ],
 "metadata": {
  "kernelspec": {
   "display_name": "Python 3",
   "language": "python",
   "name": "python3"
  },
  "language_info": {
   "codemirror_mode": {
    "name": "ipython",
    "version": 3
   },
   "file_extension": ".py",
   "mimetype": "text/x-python",
   "name": "python",
   "nbconvert_exporter": "python",
   "pygments_lexer": "ipython3",
   "version": "3.7.4"
  }
 },
 "nbformat": 4,
 "nbformat_minor": 2
}
