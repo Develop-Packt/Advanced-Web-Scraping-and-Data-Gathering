{
 "cells": [
  {
   "cell_type": "code",
   "execution_count": 1,
   "metadata": {},
   "outputs": [],
   "source": [
    "data = '''\n",
    "<person>\n",
    "  <name>Dave</name>\n",
    "  <surname>Piccardo</surname>\n",
    "  <phone type=\"intl\">\n",
    "     +1 742 101 4456\n",
    "   </phone>\n",
    "   <email hide=\"yes\">\n",
    "   dave.p@gmail.com</email>\n",
    "</person>'''\n",
    "\n"
   ]
  },
  {
   "cell_type": "code",
   "execution_count": 2,
   "metadata": {},
   "outputs": [],
   "source": [
    "import xml.etree.ElementTree as ET\n",
    "tree = ET.fromstring(data)\n"
   ]
  },
  {
   "cell_type": "code",
   "execution_count": 3,
   "metadata": {},
   "outputs": [
    {
     "name": "stdout",
     "output_type": "stream",
     "text": [
      "Name: Dave\n"
     ]
    }
   ],
   "source": [
    "print('Name:', tree.find('name').text)"
   ]
  },
  {
   "cell_type": "code",
   "execution_count": 5,
   "metadata": {},
   "outputs": [
    {
     "name": "stdout",
     "output_type": "stream",
     "text": [
      "Surname: Piccardo\n"
     ]
    }
   ],
   "source": [
    "# Print the surname\n",
    "print('Surname:', tree.find('surname').text)\n",
    "\n"
   ]
  },
  {
   "cell_type": "code",
   "execution_count": 6,
   "metadata": {},
   "outputs": [
    {
     "name": "stdout",
     "output_type": "stream",
     "text": [
      "Phone: +1 742 101 4456\n"
     ]
    }
   ],
   "source": [
    "# Print the phone number\n",
    "print('Phone:', tree.find('phone').text.strip())\n"
   ]
  },
  {
   "cell_type": "code",
   "execution_count": 7,
   "metadata": {},
   "outputs": [
    {
     "name": "stdout",
     "output_type": "stream",
     "text": [
      "Email hidden: yes\n",
      "Email: dave.p@gmail.com\n"
     ]
    }
   ],
   "source": [
    "# Print email status and the actual email\n",
    "print('Email hidden:', tree.find('email').get('hide'))\n",
    "print('Email:', tree.find('email').text.strip())\n"
   ]
  },
  {
   "cell_type": "code",
   "execution_count": null,
   "metadata": {},
   "outputs": [],
   "source": []
  },
  {
   "cell_type": "code",
   "execution_count": null,
   "metadata": {},
   "outputs": [],
   "source": []
  }
 ],
 "metadata": {
  "kernelspec": {
   "display_name": "Python 3",
   "language": "python",
   "name": "python3"
  },
  "language_info": {
   "codemirror_mode": {
    "name": "ipython",
    "version": 3
   },
   "file_extension": ".py",
   "mimetype": "text/x-python",
   "name": "python",
   "nbconvert_exporter": "python",
   "pygments_lexer": "ipython3",
   "version": "3.7.3"
  }
 },
 "nbformat": 4,
 "nbformat_minor": 2
}
