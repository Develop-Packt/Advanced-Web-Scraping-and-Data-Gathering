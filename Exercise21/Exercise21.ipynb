{
 "cells": [
  {
   "cell_type": "code",
   "execution_count": 1,
   "metadata": {},
   "outputs": [],
   "source": [
    "import re\n",
    "def print_match(s):\n",
    "    if prog.search(s)==None:\n",
    "        print(\"No match\")\n",
    "    else:\n",
    "        print(prog.search(s).group())\n"
   ]
  },
  {
   "cell_type": "code",
   "execution_count": 2,
   "metadata": {},
   "outputs": [
    {
     "name": "stdout",
     "output_type": "stream",
     "text": [
      "a\n",
      "ab\n",
      "abbb\n",
      "No match\n",
      "ab\n",
      "abb\n"
     ]
    }
   ],
   "source": [
    "prog = re.compile(r'ab*')\n",
    "\n",
    "print_match(\"a\")\n",
    "print_match(\"ab\")\n",
    "print_match(\"abbb\")\n",
    "print_match(\"b\")\n",
    "print_match(\"bbab\")\n",
    "print_match(\"something_abb_something\") \n"
   ]
  },
  {
   "cell_type": "code",
   "execution_count": 3,
   "metadata": {},
   "outputs": [
    {
     "name": "stdout",
     "output_type": "stream",
     "text": [
      "No match\n",
      "ab\n",
      "abbb\n",
      "No match\n",
      "ab\n",
      "abb\n"
     ]
    }
   ],
   "source": [
    "prog = re.compile(r'ab+')\n",
    "\n",
    "print_match(\"a\")\n",
    "print_match(\"ab\")\n",
    "print_match(\"abbb\")\n",
    "print_match(\"b\")\n",
    "print_match(\"bbab\")\n",
    "print_match(\"something_abb_something\") \n"
   ]
  },
  {
   "cell_type": "code",
   "execution_count": 4,
   "metadata": {},
   "outputs": [
    {
     "name": "stdout",
     "output_type": "stream",
     "text": [
      "a\n",
      "ab\n",
      "ab\n",
      "No match\n",
      "ab\n",
      "ab\n"
     ]
    }
   ],
   "source": [
    "prog = re.compile(r'ab?')\n",
    "\n",
    "print_match(\"a\")\n",
    "print_match(\"ab\")\n",
    "print_match(\"abbb\")\n",
    "print_match(\"b\")\n",
    "print_match(\"bbab\")\n",
    "print_match(\"something_abb_something\") \n"
   ]
  },
  {
   "cell_type": "code",
   "execution_count": null,
   "metadata": {},
   "outputs": [],
   "source": []
  }
 ],
 "metadata": {
  "kernelspec": {
   "display_name": "Python 3",
   "language": "python",
   "name": "python3"
  },
  "language_info": {
   "codemirror_mode": {
    "name": "ipython",
    "version": 3
   },
   "file_extension": ".py",
   "mimetype": "text/x-python",
   "name": "python",
   "nbconvert_exporter": "python",
   "pygments_lexer": "ipython3",
   "version": "3.7.3"
  }
 },
 "nbformat": 4,
 "nbformat_minor": 2
}
